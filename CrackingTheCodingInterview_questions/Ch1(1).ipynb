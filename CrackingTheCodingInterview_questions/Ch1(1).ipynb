{
 "cells": [
  {
   "cell_type": "markdown",
   "metadata": {},
   "source": [
    "CTCI. Pg.90> Implement an algorithm to determin if a string has all unique charachters."
   ]
  },
  {
   "cell_type": "code",
   "execution_count": 30,
   "metadata": {},
   "outputs": [],
   "source": [
    "# We can use hashmap and array to solve this problem, \n",
    "# using hashmap will give us complexity O(n) while array  will be O(nlongn)."
   ]
  },
  {
   "cell_type": "code",
   "execution_count": 38,
   "metadata": {},
   "outputs": [
    {
     "name": "stdout",
     "output_type": "stream",
     "text": [
      "True\n",
      "False\n",
      "True\n"
     ]
    }
   ],
   "source": [
    "def isunique(string_name):\n",
    "    creating_dic = {}\n",
    "    for char  in string_name:\n",
    "        if char in creating_dic:\n",
    "            return False\n",
    "        else:\n",
    "            creating_dic[char] = True\n",
    "    return True\n",
    "\n",
    "print(isunique(\"Jai\"))\n",
    "print(isunique(\"Shree\"))\n",
    "print(isunique(\"Krishna\"))"
   ]
  },
  {
   "cell_type": "code",
   "execution_count": 39,
   "metadata": {},
   "outputs": [],
   "source": [
    "# Now use array.\n",
    "# we first will sort the array, and then if i == i+1 then return False.\n",
    "# quick sort takes O(log n) but n elements will take O(n log n)"
   ]
  },
  {
   "cell_type": "code",
   "execution_count": 41,
   "metadata": {},
   "outputs": [
    {
     "name": "stdout",
     "output_type": "stream",
     "text": [
      "False\n"
     ]
    }
   ],
   "source": [
    "def is_unique(string_name):\n",
    "    string_name = sorted(string_name)\n",
    "    for i in range (len(string_name)-1):\n",
    "        if string_name[i] == string_name[i+1]:\n",
    "            return False\n",
    "    return True\n",
    "\n",
    "print(is_unique(\"Are you td\"))\n",
    "# here the charachters are unique but answer is false because of space."
   ]
  },
  {
   "cell_type": "code",
   "execution_count": null,
   "metadata": {},
   "outputs": [],
   "source": []
  }
 ],
 "metadata": {
  "kernelspec": {
   "display_name": "Python 3",
   "language": "python",
   "name": "python3"
  },
  "language_info": {
   "codemirror_mode": {
    "name": "ipython",
    "version": 3
   },
   "file_extension": ".py",
   "mimetype": "text/x-python",
   "name": "python",
   "nbconvert_exporter": "python",
   "pygments_lexer": "ipython3",
   "version": "3.10.8"
  }
 },
 "nbformat": 4,
 "nbformat_minor": 2
}
