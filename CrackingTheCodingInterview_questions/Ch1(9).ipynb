{
 "cells": [
  {
   "cell_type": "code",
   "execution_count": 1,
   "metadata": {},
   "outputs": [],
   "source": [
    "# String Rotation:Assumeyou have a method isSubstringwhich checks if oneword is a substring\n",
    "# of another. Given two strings, sl and s2, write code to check if s2 is a rotation of sl using only one\n",
    "# call to isSubstring (e.g., \"waterbottle\" is a rotation of\"erbottlewat\"). "
   ]
  },
  {
   "cell_type": "code",
   "execution_count": 13,
   "metadata": {},
   "outputs": [
    {
     "data": {
      "text/plain": [
       "False"
      ]
     },
     "execution_count": 13,
     "metadata": {},
     "output_type": "execute_result"
    }
   ],
   "source": [
    "# O(N log N)\n",
    "def isSubstring(s1, s2):\n",
    "    # s1, s2 = s1.sort, s2.sort\n",
    "\n",
    "    if sorted(s1) == sorted(s2):\n",
    "        return True\n",
    "    return False\n",
    "\n",
    "# Test cases for isSubstring function\n",
    "isSubstring(\"waterbottle\", \"erbottlewat\")  #Expected: True\n",
    "isSubstring(\"hello\", \"hellno\") #Expected: False\n",
    "isSubstring(\"rotation\", \"ationrot\") #Expected: True\n",
    "isSubstring(\"same\", \"same\") #Expected: True\n",
    "isSubstring(\"\", \"\") #Expected: True\n",
    "isSubstring(\"abc\", \"\") #Expected: False\n",
    "isSubstring(\"\", \"abc\") #Expected: False\n",
    "isSubstring(\"a\", \"a\") #Expected: True\n",
    "isSubstring(\"a\", \"b\") #Expected: False\n",
    "isSubstring(\"abcdefgh\", \"defghabc\") #Expected: True\n",
    "isSubstring(\"abcd\", \"bcda\") #Expected: True\n",
    "isSubstring(\"aaaaa\", \"aaaab\") #Expected: False"
   ]
  },
  {
   "cell_type": "code",
   "execution_count": 35,
   "metadata": {},
   "outputs": [
    {
     "name": "stdout",
     "output_type": "stream",
     "text": [
      "False\n"
     ]
    }
   ],
   "source": [
    "def forString(s1, s2):\n",
    "\n",
    "    dic = {}\n",
    "\n",
    "    for char in s1:\n",
    "        if char in dic:\n",
    "            dic[char] += 1\n",
    "        else:\n",
    "            dic[char] = 1\n",
    "\n",
    "    for char in s2:\n",
    "        if char in dic:\n",
    "            dic[char] -= 1\n",
    "        else:\n",
    "            dic[char] = 1\n",
    "    #print(dic)\n",
    "    for i in dic:\n",
    "        #print(dic[i])\n",
    "        if dic[i] != 0:\n",
    "            return False\n",
    "    \n",
    "    return True\n",
    "\n",
    "result = forString(\"aaaaa\", \"aaaab\")\n",
    "print(result)"
   ]
  },
  {
   "cell_type": "code",
   "execution_count": null,
   "metadata": {},
   "outputs": [],
   "source": []
  }
 ],
 "metadata": {
  "kernelspec": {
   "display_name": "Python 3",
   "language": "python",
   "name": "python3"
  },
  "language_info": {
   "codemirror_mode": {
    "name": "ipython",
    "version": 3
   },
   "file_extension": ".py",
   "mimetype": "text/x-python",
   "name": "python",
   "nbconvert_exporter": "python",
   "pygments_lexer": "ipython3",
   "version": "3.10.8"
  }
 },
 "nbformat": 4,
 "nbformat_minor": 2
}
