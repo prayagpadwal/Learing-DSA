{
 "cells": [
  {
   "cell_type": "code",
   "execution_count": 2,
   "metadata": {},
   "outputs": [],
   "source": [
    "# There are three types of edit that can be performed nonstring (Insert a character, remove a character or replace a character)\n",
    "# Given 2 strings, write a function to check if they are one edit or zero edit away. "
   ]
  },
  {
   "cell_type": "code",
   "execution_count": 31,
   "metadata": {},
   "outputs": [
    {
     "name": "stdout",
     "output_type": "stream",
     "text": [
      "True\n"
     ]
    }
   ],
   "source": [
    "def functionname(stirng1, string2):\n",
    "    dict = {}\n",
    "\n",
    "    for i in stirng1:\n",
    "        if i in dict:\n",
    "            dict[i] += 1\n",
    "        else:\n",
    "            dict.update({i : 1})\n",
    "    #return dict\n",
    "\n",
    "    for i in string2:\n",
    "        if i in dict:\n",
    "            dict[i] -= 1\n",
    "        else:\n",
    "            dict.update({i : 1})\n",
    "    # return dict\n",
    "\n",
    "    count = 0\n",
    "    for d in dict:\n",
    "        if dict.get(d) == 1 or dict.get(d) == -1:\n",
    "            count += 1\n",
    "    #return count\n",
    "\n",
    "    if count == 1:\n",
    "        return True\n",
    "    else:\n",
    "        return False\n",
    "\n",
    "print(functionname(\"raj\", \"rajj\"))"
   ]
  },
  {
   "cell_type": "code",
   "execution_count": null,
   "metadata": {},
   "outputs": [],
   "source": []
  },
  {
   "cell_type": "code",
   "execution_count": null,
   "metadata": {},
   "outputs": [],
   "source": []
  }
 ],
 "metadata": {
  "kernelspec": {
   "display_name": "Python 3",
   "language": "python",
   "name": "python3"
  },
  "language_info": {
   "codemirror_mode": {
    "name": "ipython",
    "version": 3
   },
   "file_extension": ".py",
   "mimetype": "text/x-python",
   "name": "python",
   "nbconvert_exporter": "python",
   "pygments_lexer": "ipython3",
   "version": "3.10.8"
  }
 },
 "nbformat": 4,
 "nbformat_minor": 2
}
