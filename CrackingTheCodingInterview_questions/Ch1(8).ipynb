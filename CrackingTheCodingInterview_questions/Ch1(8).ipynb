{
 "cells": [
  {
   "cell_type": "code",
   "execution_count": 1,
   "metadata": {},
   "outputs": [],
   "source": [
    "# Zero Matrix: Write an algorithm such that if an element in an MxN matrix is 0, \n",
    "# its entire row and column are set to 0."
   ]
  },
  {
   "cell_type": "code",
   "execution_count": 26,
   "metadata": {},
   "outputs": [
    {
     "name": "stdout",
     "output_type": "stream",
     "text": [
      "[1, 5, 0, 13]\n",
      "[2, 6, 0, 14]\n",
      "[0, 0, 0, 0]\n",
      "[4, 8, 0, 16]\n"
     ]
    }
   ],
   "source": [
    "def checkzero(matrix):\n",
    "    \n",
    "    row = []\n",
    "    column = []\n",
    "    #N = len(matrix)\n",
    "    for i in range(len(matrix)):\n",
    "        for j in range(len(matrix[i])):\n",
    "            if matrix[i][j] == 0:\n",
    "                row.append(i)\n",
    "                column.append(j)\n",
    "    \n",
    "    for i in range(len(matrix)):\n",
    "        for j in range(len(matrix[i])):\n",
    "            if i in row or j in column:\n",
    "                matrix[i][j] = 0\n",
    "matrix = [\n",
    "    [1, 5, 9, 13],\n",
    "    [2, 6, 10, 14],\n",
    "    [3, 7, 0, 15],\n",
    "    [4, 8, 12, 16]\n",
    "]\n",
    "\n",
    "checkzero(matrix)\n",
    "for row in matrix:\n",
    "    print(row)\n",
    "#print(matrix)"
   ]
  },
  {
   "cell_type": "code",
   "execution_count": null,
   "metadata": {},
   "outputs": [],
   "source": []
  }
 ],
 "metadata": {
  "kernelspec": {
   "display_name": "Python 3",
   "language": "python",
   "name": "python3"
  },
  "language_info": {
   "codemirror_mode": {
    "name": "ipython",
    "version": 3
   },
   "file_extension": ".py",
   "mimetype": "text/x-python",
   "name": "python",
   "nbconvert_exporter": "python",
   "pygments_lexer": "ipython3",
   "version": "3.10.8"
  }
 },
 "nbformat": 4,
 "nbformat_minor": 2
}
