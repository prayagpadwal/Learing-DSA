{
 "cells": [
  {
   "cell_type": "code",
   "execution_count": 23,
   "metadata": {},
   "outputs": [
    {
     "name": "stdout",
     "output_type": "stream",
     "text": [
      "True\n"
     ]
    }
   ],
   "source": [
    "def ifPermutation(string1):\n",
    "    \n",
    "    string1 = string1.replace(\" \", \"\").lower()\n",
    "\n",
    "    dict = {}\n",
    "    for i in string1:\n",
    "        if i in dict:\n",
    "            dict[i] += 1\n",
    "        else:\n",
    "            dict.update({i : 1})\n",
    "    # print(dict)\n",
    "    count = 0\n",
    "    for j in dict:\n",
    "        stored_value = dict.get(j)\n",
    "        # print(stored_value)\n",
    "        if stored_value % 2 != 0:\n",
    "            count += 1\n",
    "    if count > 1:\n",
    "        return False\n",
    "    else:\n",
    "        return True\n",
    "    \n",
    "\n",
    "print(ifPermutation(\"Taco cat\"))"
   ]
  },
  {
   "cell_type": "code",
   "execution_count": null,
   "metadata": {},
   "outputs": [],
   "source": []
  }
 ],
 "metadata": {
  "kernelspec": {
   "display_name": "Python 3",
   "language": "python",
   "name": "python3"
  },
  "language_info": {
   "codemirror_mode": {
    "name": "ipython",
    "version": 3
   },
   "file_extension": ".py",
   "mimetype": "text/x-python",
   "name": "python",
   "nbconvert_exporter": "python",
   "pygments_lexer": "ipython3",
   "version": "3.10.8"
  }
 },
 "nbformat": 4,
 "nbformat_minor": 2
}
