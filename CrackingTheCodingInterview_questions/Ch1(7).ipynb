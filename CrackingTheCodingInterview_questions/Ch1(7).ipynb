{
 "cells": [
  {
   "cell_type": "code",
   "execution_count": 1,
   "metadata": {},
   "outputs": [],
   "source": [
    "# Rotate Matrix: Given an image represented by an NxN matrix, where each pixel in the image is 4\n",
    "# bytes, write a method to rotate the image by 90 degrees. Can you do this in place?"
   ]
  },
  {
   "cell_type": "code",
   "execution_count": 6,
   "metadata": {},
   "outputs": [
    {
     "name": "stdout",
     "output_type": "stream",
     "text": [
      "[[4, 3, 2, 1], [8, 7, 6, 5], [12, 11, 10, 9], [16, 15, 14, 13]]\n"
     ]
    }
   ],
   "source": [
    "def ninty_degree(matrix):\n",
    "\n",
    "    # Step 1, first you transpose. Meaning you digonally switch values.\n",
    "    N = len(matrix)\n",
    "    for i in range(N):\n",
    "        for j in range(i+1, N):\n",
    "            matrix[i][j], matrix [j][i] = matrix [j][i], matrix[i][j]\n",
    "\n",
    "    # Step 2, then you reverse the matrix to complete the 90 degree \n",
    "    for row in matrix:\n",
    "        row.reverse()\n",
    "\n",
    "matrix = [\n",
    "    [1, 5, 9, 13],\n",
    "    [2, 6, 10, 14],\n",
    "    [3, 7, 11, 15],\n",
    "    [4, 8, 12, 16]\n",
    "]\n",
    "\n",
    "ninty_degree(matrix)\n",
    "print(matrix)\n"
   ]
  },
  {
   "cell_type": "code",
   "execution_count": null,
   "metadata": {},
   "outputs": [],
   "source": []
  }
 ],
 "metadata": {
  "kernelspec": {
   "display_name": "Python 3",
   "language": "python",
   "name": "python3"
  },
  "language_info": {
   "codemirror_mode": {
    "name": "ipython",
    "version": 3
   },
   "file_extension": ".py",
   "mimetype": "text/x-python",
   "name": "python",
   "nbconvert_exporter": "python",
   "pygments_lexer": "ipython3",
   "version": "3.10.8"
  }
 },
 "nbformat": 4,
 "nbformat_minor": 2
}
