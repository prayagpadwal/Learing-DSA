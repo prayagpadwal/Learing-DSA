{
 "cells": [
  {
   "cell_type": "code",
   "execution_count": null,
   "metadata": {},
   "outputs": [],
   "source": [
    "# Two sum II - when array is sorted\n",
    "class Solution:\n",
    "    def twoSum(self, numbers: List[int], target: int) -> List[int]:\n",
    "        \n",
    "        i, j = 0, len(numbers)-1\n",
    "        \n",
    "        while j > i:\n",
    "            sum = numbers[i] + numbers[j]\n",
    "            if  sum == target:\n",
    "                return [i+1, j+1]\n",
    "            elif sum < target:\n",
    "                i += 1\n",
    "            elif sum > target:\n",
    "                j -= 1"
   ]
  }
 ],
 "metadata": {
  "language_info": {
   "name": "python"
  }
 },
 "nbformat": 4,
 "nbformat_minor": 2
}
