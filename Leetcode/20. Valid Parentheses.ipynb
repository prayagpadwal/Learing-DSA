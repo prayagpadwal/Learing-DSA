{
 "cells": [
  {
   "cell_type": "code",
   "execution_count": null,
   "metadata": {},
   "outputs": [],
   "source": [
    "class Solution:\n",
    "    def isValid(self, s: str) -> bool:\n",
    "        stack = []\n",
    "        for i in s:\n",
    "            if i in '({[':\n",
    "                stack.append(i)\n",
    "            else:\n",
    "                if not stack or \\\n",
    "                (i == ')' and stack[-1] != '(') or \\\n",
    "                (i == '}' and stack[-1] != '{') or \\\n",
    "                (i == ']' and stack[-1] != '['):\n",
    "                    return False\n",
    "                stack.pop()\n",
    "        return not stack\n"
   ]
  }
 ],
 "metadata": {
  "language_info": {
   "name": "python"
  }
 },
 "nbformat": 4,
 "nbformat_minor": 2
}
