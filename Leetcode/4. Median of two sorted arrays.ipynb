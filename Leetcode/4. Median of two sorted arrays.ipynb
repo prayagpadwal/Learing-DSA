{
 "cells": [
  {
   "cell_type": "code",
   "execution_count": 10,
   "metadata": {},
   "outputs": [
    {
     "name": "stdout",
     "output_type": "stream",
     "text": [
      "2\n"
     ]
    }
   ],
   "source": [
    "def findMedianSortedArrays(nums1: list[int], nums2: list[int]) -> float:\n",
    "    nums = nums1 + nums2\n",
    "    nums.sort()\n",
    "    #print(nums)\n",
    "    if len(nums) % 2 == 0:\n",
    "        return (nums[len(nums)//2] + nums[len(nums)//2 - 1]) / 2\n",
    "    else:\n",
    "        return(nums[len(nums)//2])\n",
    "\n",
    "result = findMedianSortedArrays([1,2,2,3], [0,1,2])\n",
    "print(result)"
   ]
  },
  {
   "cell_type": "code",
   "execution_count": null,
   "metadata": {},
   "outputs": [],
   "source": []
  }
 ],
 "metadata": {
  "kernelspec": {
   "display_name": "Python 3",
   "language": "python",
   "name": "python3"
  },
  "language_info": {
   "codemirror_mode": {
    "name": "ipython",
    "version": 3
   },
   "file_extension": ".py",
   "mimetype": "text/x-python",
   "name": "python",
   "nbconvert_exporter": "python",
   "pygments_lexer": "ipython3",
   "version": "3.10.8"
  }
 },
 "nbformat": 4,
 "nbformat_minor": 2
}
