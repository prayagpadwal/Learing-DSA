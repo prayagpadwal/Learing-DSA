{
 "cells": [
  {
   "cell_type": "code",
   "execution_count": null,
   "metadata": {},
   "outputs": [],
   "source": [
    "def twoSum(self, nums: List[int], target: int) -> List[int]:\n",
    "    numMap = {}\n",
    "    n = len(nums)\n",
    "\n",
    "    for i in range(n):\n",
    "        numMap[nums[i]] = i\n",
    "\n",
    "    for i in range(n):\n",
    "        compliment = target - nums[i]\n",
    "        if compliment in numMap and numMap[compliment] != i:\n",
    "            return [numMap[compliment], nums[i]]"
   ]
  }
 ],
 "metadata": {
  "language_info": {
   "name": "python"
  }
 },
 "nbformat": 4,
 "nbformat_minor": 2
}
