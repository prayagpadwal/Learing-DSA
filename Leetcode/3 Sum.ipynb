{
 "cells": [
  {
   "cell_type": "code",
   "execution_count": 2,
   "metadata": {},
   "outputs": [],
   "source": [
    "# Brut Force\n",
    "\n",
    "class Solution:\n",
    "    def threeSum(self, nums: list[int]) -> list[list[int]]:\n",
    "        nums = sorted(nums)\n",
    "        array_list = []\n",
    "\n",
    "        for i in range(0, len(nums)-2):\n",
    "            for j in range(i+1, len(nums)-1):\n",
    "                for k in range(j+1, len(nums)):\n",
    "                    if nums[i] + nums[j] + nums[k] == 0:\n",
    "                        triplet = sorted([nums[i], nums[j], nums[k]])\n",
    "                        \n",
    "                        if triplet not in array_list:\n",
    "                            array_list.append(triplet)\n",
    "        return array_list"
   ]
  },
  {
   "cell_type": "code",
   "execution_count": null,
   "metadata": {},
   "outputs": [],
   "source": [
    "# Optimized - (neetcode video explanation)\n",
    "\n",
    "class Solution:\n",
    "    def threeSum(self, nums: List[int]) -> List[List[int]]:\n",
    "        result = []\n",
    "        nums = sorted(nums)\n",
    "        for i, a in enumerate(nums):\n",
    "            if i > 0 and a == nums[i-1]:\n",
    "                continue\n",
    "            \n",
    "            l, r = i + 1, len(nums) - 1\n",
    "            while r > l:\n",
    "                threeSUM = a + nums[l] + nums[r]\n",
    "                if threeSUM > 0:\n",
    "                    r -= 1\n",
    "                elif threeSUM < 0:\n",
    "                    l += 1\n",
    "                else:\n",
    "                    result.append([a, nums[l], nums[r]])\n",
    "                    l += 1\n",
    "                    while nums[l] == nums[l-1] and l < r:\n",
    "                        l += 1\n",
    "        return result"
   ]
  }
 ],
 "metadata": {
  "kernelspec": {
   "display_name": "Python 3",
   "language": "python",
   "name": "python3"
  },
  "language_info": {
   "codemirror_mode": {
    "name": "ipython",
    "version": 3
   },
   "file_extension": ".py",
   "mimetype": "text/x-python",
   "name": "python",
   "nbconvert_exporter": "python",
   "pygments_lexer": "ipython3",
   "version": "3.10.8"
  }
 },
 "nbformat": 4,
 "nbformat_minor": 2
}
